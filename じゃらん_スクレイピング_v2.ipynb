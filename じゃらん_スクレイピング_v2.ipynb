{
  "nbformat": 4,
  "nbformat_minor": 0,
  "metadata": {
    "colab": {
      "provenance": []
    },
    "kernelspec": {
      "name": "python3",
      "display_name": "Python 3"
    },
    "language_info": {
      "name": "python"
    }
  },
  "cells": [
    {
      "cell_type": "code",
      "execution_count": 1,
      "metadata": {
        "id": "wpXNpOlyMINe"
      },
      "outputs": [],
      "source": [
        "import json\n",
        "from lxml import html\n",
        "from lxml.etree import tostring\n",
        "import os\n",
        "import shutil\n",
        "import requests\n",
        "import re\n",
        "import sys"
      ]
    },
    {
      "cell_type": "code",
      "source": [
        "from google.colab import drive\n",
        "drive.mount('/content/drive')"
      ],
      "metadata": {
        "colab": {
          "base_uri": "https://localhost:8080/"
        },
        "id": "yc7mDdOtnky5",
        "outputId": "77287f52-6562-4fc8-a726-10fb0d291225"
      },
      "execution_count": 2,
      "outputs": [
        {
          "output_type": "stream",
          "name": "stdout",
          "text": [
            "Mounted at /content/drive\n"
          ]
        }
      ]
    },
    {
      "cell_type": "code",
      "source": [
        "i = 1\n",
        "\n",
        "home_url = 'https://bokete.jp'\n",
        "headers = {\n",
        "      \"User-Agent\": \"Mozilla/5.0 (Windows NT 10.0; Win64; x64) AppleWebKit/537.36 (KHTML, like Gecko) Chrome/109.0.0.0 Safari/537.36\",\n",
        "      \"referer\" : home_url\n",
        "}\n",
        "\n",
        "# 保存先のディレクトリを指定\n",
        "target_dir = \"/content/drive/MyDrive/jalan_review/\"\n",
        "if not os.path.exists(target_dir):\n",
        "        os.mkdir(target_dir)\n",
        "\n",
        "while 1:\n",
        "    # カテゴリのトップページ(g2_36がカテゴリによって異なる)\n",
        "    URL = f'https://www.jalan.net/kankou/g2_36/page_{i}/'\n",
        "\n",
        "    res = requests.get(URL, headers = headers)\n",
        "    res.encoding = \"shift_jis\"\n",
        "    row_html = html.fromstring(res.text.replace(\"<br>\", \"\").replace(\"\\t\", \"\").replace(\"\\n\", \"\"))\n",
        "\n",
        "    # カテゴリを取得\n",
        "    category = row_html.xpath('//*[@id=\"contentsListHeader\"]/div/h1/text()')[0]\n",
        "    if not os.path.exists(f\"{target_dir}{category}/\"):\n",
        "        os.mkdir(f\"{target_dir}{category}/\")\n",
        "    # 既にそのカテゴリについてスクレイピング済みの場合, 続きのページから始める\n",
        "    if os.path.exists(f\"{target_dir}{category}/last_page.json\"):\n",
        "        with open(f\"{target_dir}{category}/last_page.json\", \"r\") as f:\n",
        "            i = json.load(f)[\"last_page\"] + 1\n",
        "        URL = f'https://www.jalan.net/kankou/g2_36/page_{i}/'\n",
        "\n",
        "        res = requests.get(URL, headers = headers)\n",
        "        res.encoding = \"shift_jis\"\n",
        "        row_html = html.fromstring(res.text.replace(\"<br>\", \"\").replace(\"\\t\", \"\").replace(\"\\n\", \"\"))\n",
        "\n",
        "    # todo 観光地ボックスを指定するようにする\n",
        "    spt_links = row_html.xpath('//*[@id=\"cassetteType\"]/li[*]/div/div[*]/p[1]/a/@href')\n",
        "    spt_names = row_html.xpath('//*[@id=\"cassetteType\"]/li[*]/div/div[*]/p[1]/a/text()')\n",
        "\n",
        "    # 取得できる観光地が無い場合終了\n",
        "    if len(spt_links) == 0: break\n",
        "\n",
        "    for SL, SN in zip(spt_links, spt_names):\n",
        "\n",
        "        pattern = r\"spt_\\d+[a-zA-Z]{2,}\\d+\"\n",
        "        m = re.search(pattern, SL)\n",
        "        # パターンと不一致の場合終了\n",
        "        if not m: continue\n",
        "\n",
        "        spt_ID = m.group()\n",
        "        target_path = f\"{target_dir}{category}/{spt_ID}_{SN}.json\"\n",
        "        # 既に該当観光地についてスクレイピング済みの場合終了\n",
        "        if os.path.exists(target_path): continue\n",
        "\n",
        "        # 観光地のトップページを取得\n",
        "        URL = f'https://www.jalan.net/kankou/{spt_ID}/'\n",
        "\n",
        "        res = requests.get(URL, headers = headers)\n",
        "        res.encoding = \"shift_jis\"\n",
        "        row_html = html.fromstring(res.text.replace(\"<br>\", \"\").replace(\"\\t\", \"\").replace(\"\\n\", \"\"))\n",
        "        adress = row_html.xpath('//*[@id=\"detailMap\"]/text()')[0]\n",
        "\n",
        "        # 観光地のレビューを取得\n",
        "        j = 1\n",
        "        all_reviews = list()\n",
        "\n",
        "        while 1:\n",
        "            URL = f'https://www.jalan.net/kankou/{spt_ID}/kuchikomi/page_{j}'\n",
        "\n",
        "            res = requests.get(URL, headers = headers)\n",
        "            res.encoding = \"shift_jis\"\n",
        "            row_html = html.fromstring(res.text.replace(\"<br>\", \"\").replace(\"\\t\", \"\").replace(\"\\n\", \"\"))\n",
        "            # 全てのレビューボックスを取得\n",
        "            boxes = row_html.xpath('//*[@id=\"reviewArea\"]/ul/li[*]')\n",
        "\n",
        "            # 取得できるレビューが無い場合終了\n",
        "            if len(boxes) == 0: break\n",
        "\n",
        "            for B in boxes:\n",
        "                star = float(B.xpath('./div/div[1]/div[1]/span[2]/text()')[0])\n",
        "                review = B.xpath('./div/div[1]/div[2]/div/span//text()')[-1]\n",
        "                title = B.xpath('./div/div[1]/p/a/text()')[0]\n",
        "                tag = B.xpath('./div/div[1]/ul[1]/li/text()')[0]\n",
        "                auther = B.xpath('./div/div[*]/p[2]/span/text()')[-1]\n",
        "                posted_date = row_html.xpath('//*[@id=\"reviewArea\"]/ul/li[*]/div/div[1]/ul[2]/li/text()')[-1][4:]\n",
        "\n",
        "                all_reviews.append({\n",
        "                    \"title\" : title,\n",
        "                    \"review\" : review,\n",
        "                    \"posted_date\" : posted_date,\n",
        "                    \"star\" : star,\n",
        "                    \"tag\" : tag,\n",
        "                    \"auther\" : auther\n",
        "                })\n",
        "\n",
        "            j += 1\n",
        "\n",
        "            sys.stdout.write('\\r')\n",
        "            sys.stdout.write(f\"{SN}, {len(all_reviews)}\")\n",
        "            sys.stdout.flush()\n",
        "\n",
        "        # jsonファイルに書き込み\n",
        "        with open(target_path, \"w\") as f:\n",
        "            json.dump({\n",
        "                \"name\" : SN,\n",
        "                \"spt_ID\" : spt_ID,\n",
        "                \"adress\" : adress,\n",
        "                \"reviews\" : all_reviews\n",
        "            }, f)\n",
        "\n",
        "    # カテゴリーの１ページが終了した場合, 終わったページ番号を記録\n",
        "    with open(f\"{target_dir}{category}/last_page.json\", \"w\") as f:\n",
        "        json.dump({\"last_page\" : i}, f)\n",
        "\n",
        "    i += 1"
      ],
      "metadata": {
        "colab": {
          "base_uri": "https://localhost:8080/"
        },
        "id": "C3vV7PHgnNTz",
        "outputId": "7ee6341a-13b8-4d7c-b9bf-2a4c14b4b107"
      },
      "execution_count": null,
      "outputs": [
        {
          "output_type": "stream",
          "name": "stdout",
          "text": [
            "札幌ドーム, 1910"
          ]
        }
      ]
    }
  ]
}